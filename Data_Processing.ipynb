{
  "nbformat": 4,
  "nbformat_minor": 0,
  "metadata": {
    "colab": {
      "name": "Data Processing.ipynb",
      "version": "0.3.2",
      "provenance": [],
      "include_colab_link": true
    },
    "kernelspec": {
      "name": "python3",
      "display_name": "Python 3"
    }
  },
  "cells": [
    {
      "cell_type": "markdown",
      "metadata": {
        "id": "view-in-github",
        "colab_type": "text"
      },
      "source": [
        "<a href=\"https://colab.research.google.com/github/GreatLearningAIML1/test-repository2-Hamshavarthini/blob/master/Data_Processing.ipynb\" target=\"_parent\"><img src=\"https://colab.research.google.com/assets/colab-badge.svg\" alt=\"Open In Colab\"/></a>"
      ]
    },
    {
      "cell_type": "code",
      "metadata": {
        "id": "lQKcd04noFEz",
        "colab_type": "code",
        "outputId": "afe97047-b3ea-4b9e-8948-a65ca7908585",
        "colab": {
          "base_uri": "https://localhost:8080/",
          "height": 34
        }
      },
      "source": [
        "from google.colab import drive\n",
        "drive.mount('/content/gdrive')"
      ],
      "execution_count": 0,
      "outputs": [
        {
          "output_type": "stream",
          "text": [
            "Drive already mounted at /content/gdrive; to attempt to forcibly remount, call drive.mount(\"/content/gdrive\", force_remount=True).\n"
          ],
          "name": "stdout"
        }
      ]
    },
    {
      "cell_type": "code",
      "metadata": {
        "id": "ahS0tNdIoliT",
        "colab_type": "code",
        "outputId": "13a69384-558d-40d8-b1b3-d1ebe0c8d605",
        "colab": {
          "base_uri": "https://localhost:8080/",
          "height": 50
        }
      },
      "source": [
        "import pandas as pd\n",
        "import numpy as np\n",
        "\n",
        "from matplotlib import pyplot as plt \n",
        "%matplotlib inline\n",
        "from nltk.corpus import stopwords\n",
        "import nltk\n",
        "nltk.download('stopwords')\n",
        "\n",
        "\n",
        "\n",
        "import re\n",
        "import string\n",
        "import numpy as np # linear algebra\n",
        "import pandas as pd # data processing, CSV file I/O (e.g. pd.read_csv)\n",
        "import operator\n",
        "from gensim.models import KeyedVectors\n",
        "import seaborn as sns\n",
        "color = sns.color_palette()\n",
        "%matplotlib inline\n",
        "from tqdm import tqdm\n",
        "tqdm.pandas()\n",
        "import pickle\n",
        "import gc"
      ],
      "execution_count": 0,
      "outputs": [
        {
          "output_type": "stream",
          "text": [
            "[nltk_data] Downloading package stopwords to /root/nltk_data...\n",
            "[nltk_data]   Package stopwords is already up-to-date!\n"
          ],
          "name": "stdout"
        }
      ]
    },
    {
      "cell_type": "code",
      "metadata": {
        "id": "c1B5j0Y0odVS",
        "colab_type": "code",
        "colab": {}
      },
      "source": [
        "Job_Description= pd.read_csv('/content/gdrive/My Drive/Capstone/indeed_job_dataset_1.csv')"
      ],
      "execution_count": 0,
      "outputs": []
    },
    {
      "cell_type": "code",
      "metadata": {
        "id": "M-9CKovBpEEn",
        "colab_type": "code",
        "outputId": "3fd4bdb7-d55d-49d9-ea95-2f421719d7f2",
        "colab": {
          "base_uri": "https://localhost:8080/",
          "height": 261
        }
      },
      "source": [
        "Job_Description.head(2)"
      ],
      "execution_count": 0,
      "outputs": [
        {
          "output_type": "execute_result",
          "data": {
            "text/html": [
              "<div>\n",
              "<style scoped>\n",
              "    .dataframe tbody tr th:only-of-type {\n",
              "        vertical-align: middle;\n",
              "    }\n",
              "\n",
              "    .dataframe tbody tr th {\n",
              "        vertical-align: top;\n",
              "    }\n",
              "\n",
              "    .dataframe thead th {\n",
              "        text-align: right;\n",
              "    }\n",
              "</style>\n",
              "<table border=\"1\" class=\"dataframe\">\n",
              "  <thead>\n",
              "    <tr style=\"text-align: right;\">\n",
              "      <th></th>\n",
              "      <th>Job_Title</th>\n",
              "      <th>Job_Type</th>\n",
              "      <th>Skill</th>\n",
              "      <th>No_of_Skills</th>\n",
              "      <th>Company</th>\n",
              "      <th>No_of_Reviews</th>\n",
              "      <th>No_of_Stars</th>\n",
              "      <th>Date_Since_Posted</th>\n",
              "      <th>Description</th>\n",
              "      <th>Location</th>\n",
              "      <th>Company_Industry</th>\n",
              "    </tr>\n",
              "  </thead>\n",
              "  <tbody>\n",
              "    <tr>\n",
              "      <th>0</th>\n",
              "      <td>Data Scientist</td>\n",
              "      <td>data_scientist</td>\n",
              "      <td>SAP, SQL</td>\n",
              "      <td>2</td>\n",
              "      <td>Express Scripts</td>\n",
              "      <td>3301.0</td>\n",
              "      <td>3.3</td>\n",
              "      <td>1.0</td>\n",
              "      <td>POSITION SUMMARY, \\r\\r\\nThe Business Analyst r...</td>\n",
              "      <td>MO</td>\n",
              "      <td>Health Care</td>\n",
              "    </tr>\n",
              "    <tr>\n",
              "      <th>1</th>\n",
              "      <td>Data Scientist</td>\n",
              "      <td>data_scientist</td>\n",
              "      <td>Machine Learning, R, SAS, SQL, Python</td>\n",
              "      <td>5</td>\n",
              "      <td>Money Mart Financial Services</td>\n",
              "      <td>NaN</td>\n",
              "      <td>NaN</td>\n",
              "      <td>15.0</td>\n",
              "      <td>What do we need?, \\r\\r\\nYou to have an amazing...</td>\n",
              "      <td>TX</td>\n",
              "      <td>NaN</td>\n",
              "    </tr>\n",
              "  </tbody>\n",
              "</table>\n",
              "</div>"
            ],
            "text/plain": [
              "        Job_Title        Job_Type  ... Location  Company_Industry\n",
              "0  Data Scientist  data_scientist  ...       MO       Health Care\n",
              "1  Data Scientist  data_scientist  ...       TX               NaN\n",
              "\n",
              "[2 rows x 11 columns]"
            ]
          },
          "metadata": {
            "tags": []
          },
          "execution_count": 4
        }
      ]
    },
    {
      "cell_type": "markdown",
      "metadata": {
        "id": "jEsYjaTQwN1R",
        "colab_type": "text"
      },
      "source": [
        "#TEXT CLEANING"
      ]
    },
    {
      "cell_type": "code",
      "metadata": {
        "id": "XRUQQVTrwNRi",
        "colab_type": "code",
        "colab": {}
      },
      "source": [
        "# remove space\n",
        "spaces = ['\\u200b', '\\u200e', '\\u202a', '\\u202c', '\\ufeff', '\\uf0d8', '\\u2061', '\\x10', '\\x7f', '\\x9d', '\\xad', '\\xa0']\n",
        "def remove_space(text):\n",
        "    \"\"\"\n",
        "    remove extra spaces and ending space if any\n",
        "    \"\"\"\n",
        "    for space in spaces:\n",
        "        text = text.replace(space, ' ')\n",
        "    text = text.strip()\n",
        "    text = re.sub('\\s+', ' ', text)\n",
        "    return text"
      ],
      "execution_count": 0,
      "outputs": []
    },
    {
      "cell_type": "code",
      "metadata": {
        "id": "qmWN1mxrErFB",
        "colab_type": "code",
        "colab": {}
      },
      "source": [
        "Job_Description['clean_text'] = Job_Description['Description'].apply(lambda x:remove_space(str(x)))"
      ],
      "execution_count": 0,
      "outputs": []
    },
    {
      "cell_type": "code",
      "metadata": {
        "id": "grN-GmK_Bgr8",
        "colab_type": "code",
        "colab": {}
      },
      "source": [
        "# replace strange punctuations and raplace diacritics\n",
        "from unicodedata import category, name, normalize\n",
        "\n",
        "def remove_diacritics(s):\n",
        "    return ''.join(c for c in normalize('NFKD', s.replace('ø', 'o').replace('Ø', 'O').replace('⁻', '-').replace('₋', '-'))\n",
        "                  if category(c) != 'Mn')\n",
        "\n",
        "special_punc_mappings = {\"—\": \"-\", \"–\": \"-\", \"_\": \"-\", '”': '\"', \"″\": '\"', '“': '\"', '•': '.', '−': '-',\n",
        "                         \"’\": \"'\", \"‘\": \"'\", \"´\": \"'\", \"`\": \"'\", '\\u200b': ' ', '\\xa0': ' ','،':'','„':'',\n",
        "                         '…': ' ... ', '\\ufeff': ''}\n",
        "def clean_special_punctuations(text):\n",
        "    for punc in special_punc_mappings:\n",
        "        if punc in text:\n",
        "            text = text.replace(punc, special_punc_mappings[punc])\n",
        "    # 注意顺序，remove_diacritics放前面会导致 'don´t' 被处理为 'don t'\n",
        "    text = remove_diacritics(text)\n",
        "    return text"
      ],
      "execution_count": 0,
      "outputs": []
    },
    {
      "cell_type": "code",
      "metadata": {
        "id": "N68CzayKFIKi",
        "colab_type": "code",
        "colab": {}
      },
      "source": [
        "Job_Description['clean_text'] = Job_Description['clean_text'].apply(lambda x:remove_diacritics(str(x)))"
      ],
      "execution_count": 0,
      "outputs": []
    },
    {
      "cell_type": "code",
      "metadata": {
        "id": "4Yia-JESxZXG",
        "colab_type": "code",
        "colab": {}
      },
      "source": [
        "# de-contract the contraction\n",
        "def decontracted(text):\n",
        "    # specific\n",
        "    text = re.sub(r\"(W|w)on(\\'|\\’)t \", \"will not \", text)\n",
        "    text = re.sub(r\"(C|c)an(\\'|\\’)t \", \"can not \", text)\n",
        "    text = re.sub(r\"(Y|y)(\\'|\\’)all \", \"you all \", text)\n",
        "    text = re.sub(r\"(Y|y)a(\\'|\\’)ll \", \"you all \", text)\n",
        "\n",
        "    # general\n",
        "    text = re.sub(r\"(I|i)(\\'|\\’)m \", \"i am \", text)\n",
        "    text = re.sub(r\"(A|a)in(\\'|\\’)t \", \"is not \", text)\n",
        "    text = re.sub(r\"n(\\'|\\’)t \", \" not \", text)\n",
        "    text = re.sub(r\"(\\'|\\’)re \", \" are \", text)\n",
        "    text = re.sub(r\"(\\'|\\’)s \", \" is \", text)\n",
        "    text = re.sub(r\"(\\'|\\’)d \", \" would \", text)\n",
        "    text = re.sub(r\"(\\'|\\’)ll \", \" will \", text)\n",
        "    text = re.sub(r\"(\\'|\\’)t \", \" not \", text)\n",
        "    text = re.sub(r\"(\\'|\\’)ve \", \" have \", text)\n",
        "    return text"
      ],
      "execution_count": 0,
      "outputs": []
    },
    {
      "cell_type": "code",
      "metadata": {
        "id": "Ssn4skLkFQaH",
        "colab_type": "code",
        "colab": {}
      },
      "source": [
        "Job_Description['clean_text'] = Job_Description['clean_text'].apply(lambda x:decontracted(str(x)))"
      ],
      "execution_count": 0,
      "outputs": []
    },
    {
      "cell_type": "code",
      "metadata": {
        "id": "Am8gCbTdwM5X",
        "colab_type": "code",
        "colab": {}
      },
      "source": [
        "regular_punct = list(string.punctuation)\n",
        "extra_punct = [\n",
        "    ',', '.', '\"', ':', ')', '(', '!', '?',' ?', ' !' ,'|', ';', \"'\", '$', '&',\n",
        "    '/', '[', ']', '>', '%', '=', '#', '*', '+', '\\\\', '•',  '~', '@', '£',\n",
        "    '·', '_', '{', '}', '©', '^', '®', '`',  '<', '→', '°', '€', '™', '›',\n",
        "    '♥', '←', '×', '§', '″', '′', 'Â', '█', '½', 'à', '…', '“', '★', '”',\n",
        "    '–', '●', 'â', '►', '−', '¢', '²', '¬', '░', '¶', '↑', '±', '¿', '▾',\n",
        "    '═', '¦', '║', '―', '¥', '▓', '—', '‹', '─', '▒', '：', '¼', '⊕', '▼',\n",
        "    '▪', '†', '■', '’', '▀', '¨', '▄', '♫', '☆', 'é', '¯', '♦', '¤', '▲',\n",
        "    'è', '¸', '¾', 'Ã', '⋅', '‘', '∞', '∙', '）', '↓', '、', '│', '（', '»',\n",
        "    '，', '♪', '╩', '╚', '³', '・', '╦', '╣', '╔', '╗', '▬', '❤', 'ï', 'Ø',\n",
        "    '¹', '≤', '‡', '√', '«', '»', '´', 'º', '¾', '¡', '§', '£', '₤']\n",
        "all_punct = list(set(regular_punct + extra_punct))\n",
        "# do not spacing - and .\n",
        "all_punct.remove('-')\n",
        "all_punct.remove('.')\n",
        "all_punct.remove('!')\n",
        "all_punct.remove('?')\n",
        "\n",
        "def spacing_punctuation(text):\n",
        "    \"\"\"\n",
        "    add space before and after punctuation and symbols\n",
        "    \"\"\"\n",
        "    for punc in all_punct:\n",
        "        if punc in text:\n",
        "            text = text.replace(punc, f' {punc} ')\n",
        "    return text"
      ],
      "execution_count": 0,
      "outputs": []
    },
    {
      "cell_type": "code",
      "metadata": {
        "id": "UaJ0IO6LFg12",
        "colab_type": "code",
        "colab": {}
      },
      "source": [
        "Job_Description['clean_text'] = Job_Description['clean_text'].apply(lambda x:spacing_punctuation(str(x)))"
      ],
      "execution_count": 0,
      "outputs": []
    },
    {
      "cell_type": "code",
      "metadata": {
        "id": "BwckCAm0EAu0",
        "colab_type": "code",
        "outputId": "5beee9df-26a3-4555-e926-7180c8253462",
        "colab": {
          "base_uri": "https://localhost:8080/",
          "height": 54
        }
      },
      "source": [
        "Job_Description['clean_text'][1]"
      ],
      "execution_count": 0,
      "outputs": [
        {
          "output_type": "execute_result",
          "data": {
            "text/plain": [
              "'What do we need? ,  You to have an amazing personality and communication style. That you are super-organized and are a problem solver. That you take pride in everything that you do ,  and it shows. And most importantly that you have unquestionable integrity. ,  Why work for us? ,  We invest in our employees ,  and offer extensive training ,  and development programs to set you up for future success. ,  If we sound like a fit ,  and you are ready to start an exciting career with an organization that fosters employee growth ,  apply today! Job Description This position will be responsible for :  ,  Develop marketing ,  credit risk models ,  segmentation ,  and risk analytics Perform all required tests and measures of developed models Deliver comprehensive model documentation  ( e.g. ,  Model Development Document ,  Technical Specification Document )  of modeling projects Understand and follow modeling procedures ,  credit policies ,  and deliver technical / regulatory documentation for internal / external reviews Communicate technical information verbally and in writing to both technical and non-technical audiences ,  Education ,  Advanced Degree  ( Masters or PhD preferred )  in Statistics ,  Applied Mathematics ,  Operations Research ,  Statistics ,  Economics ,  Quantitative Finance. MBAs should apply only if they are interested in career in specialized quantitative risk management discipline ,  Experience  ,  Entry level position. Any experience in statistical modeling fields is preferred ,  Skills ,  Very strong knowledge of statistics methods and machine learning techniques Strong numerical programming ability using a range of languages  ( SAS ,  R ,  Python )  ;  working experience with SQL Detail-oriented with high degree of accuracy Strong analytical ,  problem-solving and critical-thinking skills Excellent verbal and written communication skills ,  Benefits ,  Medical  /  Dental /  Vision benefits available after 30 days of employment Company paid life insurance Paid holidays PTO /  401K  /  Tuition Reimbursement ,  All your information will be kept confidential according to EEO guidelines.'"
            ]
          },
          "metadata": {
            "tags": []
          },
          "execution_count": 13
        }
      ]
    },
    {
      "cell_type": "code",
      "metadata": {
        "id": "xuhNt8Rr0tm2",
        "colab_type": "code",
        "colab": {}
      },
      "source": [
        "# job_df= pd.DataFrame(Job_Description['clean_text'])"
      ],
      "execution_count": 0,
      "outputs": []
    },
    {
      "cell_type": "code",
      "metadata": {
        "id": "R9g2BSNs1McC",
        "colab_type": "code",
        "colab": {}
      },
      "source": [
        "# filename = 'job_Desciption_semi_clean_1.csv'\n",
        "\n",
        "# job_df.to_csv(filename,index=False)\n",
        "\n",
        "# print('Saved file: ' + filename)"
      ],
      "execution_count": 0,
      "outputs": []
    }
  ]
}